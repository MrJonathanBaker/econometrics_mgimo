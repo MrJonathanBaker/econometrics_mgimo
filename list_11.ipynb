{
 "cells": [
  {
   "cell_type": "markdown",
   "id": "85d9740b",
   "metadata": {},
   "source": [
    "# Лист 11\n",
    "## Гетероскедастичность"
   ]
  },
  {
   "cell_type": "code",
   "execution_count": null,
   "id": "c0e86b8d",
   "metadata": {},
   "outputs": [],
   "source": [
    "import pandas as pd\n",
    "import numpy as np\n",
    "import statsmodels.formula.api as smf\n",
    "import statsmodels.api as sm\n",
    "import matplotlib.pyplot as plt\n",
    "import scipy.stats as stats"
   ]
  },
  {
   "cell_type": "code",
   "execution_count": 2,
   "id": "80c1ca2c",
   "metadata": {},
   "outputs": [],
   "source": [
    "df = pd.read_csv('https://raw.githubusercontent.com/ryupepa/Econometrica/master/python-notebooks/data-csv/sleep75.csv')"
   ]
  },
  {
   "cell_type": "code",
   "execution_count": 3,
   "id": "493eaeb6",
   "metadata": {},
   "outputs": [],
   "source": [
    "model = smf.ols(data=df, formula='sleep~totwrk+age+I(age**2)+male+smsa+south').fit()"
   ]
  },
  {
   "cell_type": "code",
   "execution_count": 5,
   "id": "c9610f5f",
   "metadata": {},
   "outputs": [
    {
     "data": {
      "text/plain": [
       "171319.64419318616"
      ]
     },
     "execution_count": 5,
     "metadata": {},
     "output_type": "execute_result"
    }
   ],
   "source": [
    "(sum(model.resid**2)/len(df))\n"
   ]
  },
  {
   "cell_type": "code",
   "execution_count": null,
   "id": "bba2eabb",
   "metadata": {},
   "outputs": [],
   "source": []
  }
 ],
 "metadata": {
  "kernelspec": {
   "display_name": "Python 3 (ipykernel)",
   "language": "python",
   "name": "python3"
  },
  "language_info": {
   "codemirror_mode": {
    "name": "ipython",
    "version": 3
   },
   "file_extension": ".py",
   "mimetype": "text/x-python",
   "name": "python",
   "nbconvert_exporter": "python",
   "pygments_lexer": "ipython3",
   "version": "3.9.15"
  }
 },
 "nbformat": 4,
 "nbformat_minor": 5
}
